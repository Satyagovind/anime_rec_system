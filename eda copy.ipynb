{
 "cells": [
  {
   "cell_type": "code",
   "execution_count": 1,
   "metadata": {
    "tags": []
   },
   "outputs": [
    {
     "name": "stdout",
     "output_type": "stream",
     "text": [
      "Requirement already satisfied: vaderSentiment in /home/studio-lab-user/.conda/envs/default/lib/python3.9/site-packages (from -r requirements.txt (line 1)) (3.3.2)\n",
      "Requirement already satisfied: yfinance in /home/studio-lab-user/.conda/envs/default/lib/python3.9/site-packages (from -r requirements.txt (line 2)) (0.1.68)\n",
      "Requirement already satisfied: snscrape in /home/studio-lab-user/.conda/envs/default/lib/python3.9/site-packages (from -r requirements.txt (line 3)) (0.4.2.20211215)\n",
      "Requirement already satisfied: matplotlib in /home/studio-lab-user/.conda/envs/default/lib/python3.9/site-packages (from -r requirements.txt (line 4)) (3.5.1)\n",
      "Requirement already satisfied: pandas in /home/studio-lab-user/.conda/envs/default/lib/python3.9/site-packages (from -r requirements.txt (line 5)) (1.3.5)\n",
      "Requirement already satisfied: numpy in /home/studio-lab-user/.conda/envs/default/lib/python3.9/site-packages (from -r requirements.txt (line 6)) (1.21.5)\n",
      "Requirement already satisfied: requests in /home/studio-lab-user/.conda/envs/default/lib/python3.9/site-packages (from vaderSentiment->-r requirements.txt (line 1)) (2.26.0)\n",
      "Requirement already satisfied: multitasking>=0.0.7 in /home/studio-lab-user/.conda/envs/default/lib/python3.9/site-packages (from yfinance->-r requirements.txt (line 2)) (0.0.10)\n",
      "Requirement already satisfied: lxml>=4.5.1 in /home/studio-lab-user/.conda/envs/default/lib/python3.9/site-packages (from yfinance->-r requirements.txt (line 2)) (4.7.1)\n",
      "Requirement already satisfied: beautifulsoup4 in /home/studio-lab-user/.conda/envs/default/lib/python3.9/site-packages (from snscrape->-r requirements.txt (line 3)) (4.10.0)\n",
      "Requirement already satisfied: fonttools>=4.22.0 in /home/studio-lab-user/.conda/envs/default/lib/python3.9/site-packages (from matplotlib->-r requirements.txt (line 4)) (4.28.5)\n",
      "Requirement already satisfied: packaging>=20.0 in /home/studio-lab-user/.conda/envs/default/lib/python3.9/site-packages (from matplotlib->-r requirements.txt (line 4)) (21.3)\n",
      "Requirement already satisfied: pyparsing>=2.2.1 in /home/studio-lab-user/.conda/envs/default/lib/python3.9/site-packages (from matplotlib->-r requirements.txt (line 4)) (3.0.6)\n",
      "Requirement already satisfied: python-dateutil>=2.7 in /home/studio-lab-user/.conda/envs/default/lib/python3.9/site-packages (from matplotlib->-r requirements.txt (line 4)) (2.8.2)\n",
      "Requirement already satisfied: pillow>=6.2.0 in /home/studio-lab-user/.conda/envs/default/lib/python3.9/site-packages (from matplotlib->-r requirements.txt (line 4)) (8.4.0)\n",
      "Requirement already satisfied: cycler>=0.10 in /home/studio-lab-user/.conda/envs/default/lib/python3.9/site-packages (from matplotlib->-r requirements.txt (line 4)) (0.11.0)\n",
      "Requirement already satisfied: kiwisolver>=1.0.1 in /home/studio-lab-user/.conda/envs/default/lib/python3.9/site-packages (from matplotlib->-r requirements.txt (line 4)) (1.3.2)\n",
      "Requirement already satisfied: pytz>=2017.3 in /home/studio-lab-user/.conda/envs/default/lib/python3.9/site-packages (from pandas->-r requirements.txt (line 5)) (2021.3)\n",
      "Requirement already satisfied: six>=1.5 in /home/studio-lab-user/.conda/envs/default/lib/python3.9/site-packages (from python-dateutil>=2.7->matplotlib->-r requirements.txt (line 4)) (1.16.0)\n",
      "Requirement already satisfied: charset-normalizer~=2.0.0 in /home/studio-lab-user/.conda/envs/default/lib/python3.9/site-packages (from requests->vaderSentiment->-r requirements.txt (line 1)) (2.0.9)\n",
      "Requirement already satisfied: certifi>=2017.4.17 in /home/studio-lab-user/.conda/envs/default/lib/python3.9/site-packages (from requests->vaderSentiment->-r requirements.txt (line 1)) (2021.10.8)\n",
      "Requirement already satisfied: urllib3<1.27,>=1.21.1 in /home/studio-lab-user/.conda/envs/default/lib/python3.9/site-packages (from requests->vaderSentiment->-r requirements.txt (line 1)) (1.26.7)\n",
      "Requirement already satisfied: idna<4,>=2.5 in /home/studio-lab-user/.conda/envs/default/lib/python3.9/site-packages (from requests->vaderSentiment->-r requirements.txt (line 1)) (3.3)\n",
      "Requirement already satisfied: soupsieve>1.2 in /home/studio-lab-user/.conda/envs/default/lib/python3.9/site-packages (from beautifulsoup4->snscrape->-r requirements.txt (line 3)) (2.3.1)\n",
      "Requirement already satisfied: PySocks!=1.5.7,>=1.5.6 in /home/studio-lab-user/.conda/envs/default/lib/python3.9/site-packages (from requests->vaderSentiment->-r requirements.txt (line 1)) (1.7.1)\n",
      "Note: you may need to restart the kernel to use updated packages.\n"
     ]
    }
   ],
   "source": [
    "%pip install -r requirements.txt"
   ]
  },
  {
   "cell_type": "code",
   "execution_count": 1,
   "metadata": {
    "tags": []
   },
   "outputs": [],
   "source": [
    "import os\n",
    "import pandas as pd\n",
    "import re\n",
    "# from dotenv import load_dotenv\n",
    "import yfinance as yf\n",
    "import numpy as np\n",
    "from vaderSentiment.vaderSentiment import SentimentIntensityAnalyzer\n",
    "import matplotlib.pyplot as plt\n",
    "import matplotlib.dates as mdates\n"
   ]
  },
  {
   "cell_type": "code",
   "execution_count": 2,
   "metadata": {},
   "outputs": [],
   "source": [
    "def decontracted(phrase):\n",
    "   # specific\n",
    "   phrase = re.sub(r\"won't\", \"will not\", phrase)\n",
    "   phrase = re.sub(r\"can\\'t\", \"can not\", phrase)\n",
    "   \n",
    "   # general\n",
    "   phrase = re.sub(r\"n\\'t\", \" not\", phrase)\n",
    "   phrase = re.sub(r\"\\'re\", \" are\", phrase)\n",
    "   phrase = re.sub(r\"\\'s\", \" is\", phrase)\n",
    "   phrase = re.sub(r\"\\'d\", \" would\", phrase)\n",
    "   phrase = re.sub(r\"\\'ll\", \" will\", phrase)\n",
    "   phrase = re.sub(r\"\\'t\", \" not\", phrase)\n",
    "   phrase = re.sub(r\"\\'ve\", \" have\", phrase)\n",
    "   phrase = re.sub(r\"\\'m\", \" am\", phrase)\n",
    "   return phrase\n",
    " \n",
    "def clean(text):\n",
    "   text = str(text)\n",
    "   text = text.lower()\n",
    "   text = re.sub(r'http\\S+', ' ', text)\n",
    "   text = re.sub(r'pic.twitter\\S+', ' ', text)\n",
    "   text = decontracted(text)\n",
    "   text = re.sub(r'\\(([^)]+)\\)', \" \", text)\n",
    "   text = text.replace('etmarkets', '').replace('marketupdates', '').replace('newsalert', '').replace('ndtv', '').replace('moneycontrol', '').replace('here is why', '')\n",
    "   text = text.replace('marketsupdate', '').replace('biznews', '').replace('click here', '').replace('live updates', '').replace('et now', '')\n",
    "   text = re.sub(r'[^a-zA-Z ]+', ' ', text)\n",
    "   text = re.sub(r' \\w{1,2}_', ' ', text)\n",
    "   text = re.sub('\\s+',' ', text)\n",
    "   return text\n",
    "   \n",
    "def clean_dates(df_n):\n",
    "    df_n['date'] = pd.to_datetime(df_n['date'], format=\"%Y-%m-%d\")\n",
    "    df_n['date'] = df_n.apply(lambda row : str(row['date']).split()[0], axis=1)\n",
    "\n",
    "def clean_text(df_n):\n",
    "    p = decontracted(df_n['text'])\n",
    "    return clean(p)"
   ]
  },
  {
   "cell_type": "code",
   "execution_count": null,
   "metadata": {
    "jupyter": {
     "source_hidden": true
    },
    "tags": []
   },
   "outputs": [],
   "source": [
    "\n",
    "# def sentiment_scores(sentence):\n",
    "\n",
    "#     sid_obj = SentimentIntensityAnalyzer()\n",
    "\n",
    "#     sentiment_dict = sid_obj.polarity_scores(sentence)\n",
    "\n",
    "#     if sentiment_dict['compound'] >= 0 :\n",
    "#         return 1\n",
    " \n",
    "#     elif sentiment_dict['compound'] <  0 :\n",
    "#         return -1\n",
    "\n",
    " "
   ]
  },
  {
   "cell_type": "code",
   "execution_count": 3,
   "metadata": {},
   "outputs": [],
   "source": [
    "start_date = '2015-01-01'\n",
    "end_date = '2021-12-29'\n",
    "max_results = 5000\n",
    "user_from = 'NDTVProfit'"
   ]
  },
  {
   "cell_type": "code",
   "execution_count": 4,
   "metadata": {},
   "outputs": [
    {
     "name": "stdout",
     "output_type": "stream",
     "text": [
      "[*********************100%***********************]  1 of 1 completed\n"
     ]
    },
    {
     "data": {
      "text/html": [
       "<div>\n",
       "<style scoped>\n",
       "    .dataframe tbody tr th:only-of-type {\n",
       "        vertical-align: middle;\n",
       "    }\n",
       "\n",
       "    .dataframe tbody tr th {\n",
       "        vertical-align: top;\n",
       "    }\n",
       "\n",
       "    .dataframe thead th {\n",
       "        text-align: right;\n",
       "    }\n",
       "</style>\n",
       "<table border=\"1\" class=\"dataframe\">\n",
       "  <thead>\n",
       "    <tr style=\"text-align: right;\">\n",
       "      <th></th>\n",
       "      <th>Date</th>\n",
       "      <th>Open</th>\n",
       "      <th>High</th>\n",
       "      <th>Low</th>\n",
       "      <th>Close</th>\n",
       "      <th>Adj Close</th>\n",
       "      <th>Volume</th>\n",
       "    </tr>\n",
       "  </thead>\n",
       "  <tbody>\n",
       "    <tr>\n",
       "      <th>0</th>\n",
       "      <td>2015-01-02</td>\n",
       "      <td>8288.700195</td>\n",
       "      <td>8410.599609</td>\n",
       "      <td>8288.700195</td>\n",
       "      <td>8395.450195</td>\n",
       "      <td>8395.450195</td>\n",
       "      <td>101900</td>\n",
       "    </tr>\n",
       "    <tr>\n",
       "      <th>1</th>\n",
       "      <td>2015-01-05</td>\n",
       "      <td>8407.950195</td>\n",
       "      <td>8445.599609</td>\n",
       "      <td>8363.900391</td>\n",
       "      <td>8378.400391</td>\n",
       "      <td>8378.400391</td>\n",
       "      <td>118200</td>\n",
       "    </tr>\n",
       "    <tr>\n",
       "      <th>2</th>\n",
       "      <td>2015-01-06</td>\n",
       "      <td>8325.299805</td>\n",
       "      <td>8327.849609</td>\n",
       "      <td>8111.350098</td>\n",
       "      <td>8127.350098</td>\n",
       "      <td>8127.350098</td>\n",
       "      <td>172800</td>\n",
       "    </tr>\n",
       "    <tr>\n",
       "      <th>3</th>\n",
       "      <td>2015-01-07</td>\n",
       "      <td>8118.649902</td>\n",
       "      <td>8151.200195</td>\n",
       "      <td>8065.450195</td>\n",
       "      <td>8102.100098</td>\n",
       "      <td>8102.100098</td>\n",
       "      <td>164100</td>\n",
       "    </tr>\n",
       "    <tr>\n",
       "      <th>4</th>\n",
       "      <td>2015-01-08</td>\n",
       "      <td>8191.399902</td>\n",
       "      <td>8243.500000</td>\n",
       "      <td>8167.299805</td>\n",
       "      <td>8234.599609</td>\n",
       "      <td>8234.599609</td>\n",
       "      <td>143800</td>\n",
       "    </tr>\n",
       "    <tr>\n",
       "      <th>...</th>\n",
       "      <td>...</td>\n",
       "      <td>...</td>\n",
       "      <td>...</td>\n",
       "      <td>...</td>\n",
       "      <td>...</td>\n",
       "      <td>...</td>\n",
       "      <td>...</td>\n",
       "    </tr>\n",
       "    <tr>\n",
       "      <th>1711</th>\n",
       "      <td>2021-12-22</td>\n",
       "      <td>16865.550781</td>\n",
       "      <td>16971.000000</td>\n",
       "      <td>16819.500000</td>\n",
       "      <td>16955.449219</td>\n",
       "      <td>16955.449219</td>\n",
       "      <td>207900</td>\n",
       "    </tr>\n",
       "    <tr>\n",
       "      <th>1712</th>\n",
       "      <td>2021-12-23</td>\n",
       "      <td>17066.800781</td>\n",
       "      <td>17118.650391</td>\n",
       "      <td>17015.550781</td>\n",
       "      <td>17072.599609</td>\n",
       "      <td>17072.599609</td>\n",
       "      <td>197000</td>\n",
       "    </tr>\n",
       "    <tr>\n",
       "      <th>1713</th>\n",
       "      <td>2021-12-24</td>\n",
       "      <td>17149.500000</td>\n",
       "      <td>17155.599609</td>\n",
       "      <td>16909.599609</td>\n",
       "      <td>17003.750000</td>\n",
       "      <td>17003.750000</td>\n",
       "      <td>182600</td>\n",
       "    </tr>\n",
       "    <tr>\n",
       "      <th>1714</th>\n",
       "      <td>2021-12-27</td>\n",
       "      <td>16937.750000</td>\n",
       "      <td>17112.050781</td>\n",
       "      <td>16833.199219</td>\n",
       "      <td>17086.250000</td>\n",
       "      <td>17086.250000</td>\n",
       "      <td>144800</td>\n",
       "    </tr>\n",
       "    <tr>\n",
       "      <th>1715</th>\n",
       "      <td>2021-12-28</td>\n",
       "      <td>17177.599609</td>\n",
       "      <td>17250.250000</td>\n",
       "      <td>17161.150391</td>\n",
       "      <td>17233.250000</td>\n",
       "      <td>17233.250000</td>\n",
       "      <td>176000</td>\n",
       "    </tr>\n",
       "  </tbody>\n",
       "</table>\n",
       "<p>1716 rows × 7 columns</p>\n",
       "</div>"
      ],
      "text/plain": [
       "           Date          Open          High           Low         Close  \\\n",
       "0    2015-01-02   8288.700195   8410.599609   8288.700195   8395.450195   \n",
       "1    2015-01-05   8407.950195   8445.599609   8363.900391   8378.400391   \n",
       "2    2015-01-06   8325.299805   8327.849609   8111.350098   8127.350098   \n",
       "3    2015-01-07   8118.649902   8151.200195   8065.450195   8102.100098   \n",
       "4    2015-01-08   8191.399902   8243.500000   8167.299805   8234.599609   \n",
       "...         ...           ...           ...           ...           ...   \n",
       "1711 2021-12-22  16865.550781  16971.000000  16819.500000  16955.449219   \n",
       "1712 2021-12-23  17066.800781  17118.650391  17015.550781  17072.599609   \n",
       "1713 2021-12-24  17149.500000  17155.599609  16909.599609  17003.750000   \n",
       "1714 2021-12-27  16937.750000  17112.050781  16833.199219  17086.250000   \n",
       "1715 2021-12-28  17177.599609  17250.250000  17161.150391  17233.250000   \n",
       "\n",
       "         Adj Close  Volume  \n",
       "0      8395.450195  101900  \n",
       "1      8378.400391  118200  \n",
       "2      8127.350098  172800  \n",
       "3      8102.100098  164100  \n",
       "4      8234.599609  143800  \n",
       "...            ...     ...  \n",
       "1711  16955.449219  207900  \n",
       "1712  17072.599609  197000  \n",
       "1713  17003.750000  182600  \n",
       "1714  17086.250000  144800  \n",
       "1715  17233.250000  176000  \n",
       "\n",
       "[1716 rows x 7 columns]"
      ]
     },
     "execution_count": 4,
     "metadata": {},
     "output_type": "execute_result"
    }
   ],
   "source": [
    "stocks_df = yf.download(tickers=\"%5Ensei\", start=start_date, end=end_date, interval=\"1d\").reset_index()  # yyyy-mm-dd\n",
    "# stocks_df = pd.read_csv('data.csv')\n",
    "stocks_df['Date'] = pd.to_datetime(stocks_df['Date'])\n",
    "stocks_df"
   ]
  },
  {
   "cell_type": "code",
   "execution_count": 5,
   "metadata": {},
   "outputs": [
    {
     "data": {
      "text/html": [
       "<div>\n",
       "<style scoped>\n",
       "    .dataframe tbody tr th:only-of-type {\n",
       "        vertical-align: middle;\n",
       "    }\n",
       "\n",
       "    .dataframe tbody tr th {\n",
       "        vertical-align: top;\n",
       "    }\n",
       "\n",
       "    .dataframe thead th {\n",
       "        text-align: right;\n",
       "    }\n",
       "</style>\n",
       "<table border=\"1\" class=\"dataframe\">\n",
       "  <thead>\n",
       "    <tr style=\"text-align: right;\">\n",
       "      <th></th>\n",
       "      <th>date</th>\n",
       "      <th>prices</th>\n",
       "    </tr>\n",
       "  </thead>\n",
       "  <tbody>\n",
       "    <tr>\n",
       "      <th>0</th>\n",
       "      <td>2015-01-02</td>\n",
       "      <td>8395.450195</td>\n",
       "    </tr>\n",
       "    <tr>\n",
       "      <th>1</th>\n",
       "      <td>2015-01-05</td>\n",
       "      <td>8378.400391</td>\n",
       "    </tr>\n",
       "    <tr>\n",
       "      <th>2</th>\n",
       "      <td>2015-01-06</td>\n",
       "      <td>8127.350098</td>\n",
       "    </tr>\n",
       "    <tr>\n",
       "      <th>3</th>\n",
       "      <td>2015-01-07</td>\n",
       "      <td>8102.100098</td>\n",
       "    </tr>\n",
       "    <tr>\n",
       "      <th>4</th>\n",
       "      <td>2015-01-08</td>\n",
       "      <td>8234.599609</td>\n",
       "    </tr>\n",
       "    <tr>\n",
       "      <th>...</th>\n",
       "      <td>...</td>\n",
       "      <td>...</td>\n",
       "    </tr>\n",
       "    <tr>\n",
       "      <th>1711</th>\n",
       "      <td>2021-12-22</td>\n",
       "      <td>16955.449219</td>\n",
       "    </tr>\n",
       "    <tr>\n",
       "      <th>1712</th>\n",
       "      <td>2021-12-23</td>\n",
       "      <td>17072.599609</td>\n",
       "    </tr>\n",
       "    <tr>\n",
       "      <th>1713</th>\n",
       "      <td>2021-12-24</td>\n",
       "      <td>17003.750000</td>\n",
       "    </tr>\n",
       "    <tr>\n",
       "      <th>1714</th>\n",
       "      <td>2021-12-27</td>\n",
       "      <td>17086.250000</td>\n",
       "    </tr>\n",
       "    <tr>\n",
       "      <th>1715</th>\n",
       "      <td>2021-12-28</td>\n",
       "      <td>17233.250000</td>\n",
       "    </tr>\n",
       "  </tbody>\n",
       "</table>\n",
       "<p>1716 rows × 2 columns</p>\n",
       "</div>"
      ],
      "text/plain": [
       "           date        prices\n",
       "0    2015-01-02   8395.450195\n",
       "1    2015-01-05   8378.400391\n",
       "2    2015-01-06   8127.350098\n",
       "3    2015-01-07   8102.100098\n",
       "4    2015-01-08   8234.599609\n",
       "...         ...           ...\n",
       "1711 2021-12-22  16955.449219\n",
       "1712 2021-12-23  17072.599609\n",
       "1713 2021-12-24  17003.750000\n",
       "1714 2021-12-27  17086.250000\n",
       "1715 2021-12-28  17233.250000\n",
       "\n",
       "[1716 rows x 2 columns]"
      ]
     },
     "execution_count": 5,
     "metadata": {},
     "output_type": "execute_result"
    }
   ],
   "source": [
    "stocks_df = stocks_df[['Date', 'Close']]\n",
    "stocks_df.columns = ['date', 'prices']\n",
    "\n",
    "# stocks_df['date'] = stocks_df.apply(lambda row : str(row['date']).split()[0], axis=1)\n",
    "stocks_df"
   ]
  },
  {
   "cell_type": "code",
   "execution_count": 6,
   "metadata": {},
   "outputs": [
    {
     "data": {
      "image/png": "[encoded data removed]",
      "text/plain": [
       "<Figure size 864x504 with 1 Axes>"
      ]
     },
     "metadata": {
      "needs_background": "light"
     },
     "output_type": "display_data"
    }
   ],
   "source": [
    "plt.figure (figsize=(12,7))\n",
    "plt.title('Nifty Index')\n",
    "plt.xlabel('Years')\n",
    "plt.ylabel('Prices')\n",
    "\n",
    "ax = plt.gca()\n",
    "\n",
    "formatter = mdates.DateFormatter(\"%Y\")\n",
    "ax.xaxis.set_major_formatter(formatter)\n",
    "\n",
    "locator = mdates.YearLocator()\n",
    "ax.xaxis.set_major_locator(locator)\n",
    "\n",
    "plt.plot(stocks_df['date'],stocks_df['prices'], label='Training Data')\n",
    "\n",
    "plt.legend()\n",
    "plt.gcf().autofmt_xdate()\n",
    "plt.show()\n"
   ]
  },
  {
   "cell_type": "code",
   "execution_count": null,
   "metadata": {
    "jupyter": {
     "source_hidden": true
    },
    "tags": []
   },
   "outputs": [],
   "source": [
    "# train_data, test_data = stocks_df[0:int(len(stocks_df)*0.8)], stocks_df[int(len(stocks_df)*0.8):]\n",
    "# train_data = train_data.set_index('date', drop= False)\n",
    "# test_data = test_data.set_index ('date', drop= False)\n",
    "# plt.figure (figsize=(12,7))\n",
    "# plt.title('Nifty Index')\n",
    "# plt.xlabel('Years')\n",
    "# plt.ylabel('Prices')\n",
    "\n",
    "# ax = plt.gca()\n",
    "\n",
    "# formatter = mdates.DateFormatter(\"%Y\")\n",
    "# ax.xaxis.set_major_formatter(formatter)\n",
    "\n",
    "# locator = mdates.DayLocator()\n",
    "# ax.xaxis.set_major_locator(locator)\n",
    "\n",
    "\n",
    "# plt.plot(train_data['prices'],\n",
    "# 'blue'\n",
    "# , label='Training Data')\n",
    "# plt.plot(test_data['prices'],\n",
    "# 'red', label='Testing Data')\n",
    "# plt.legend()\n",
    "# plt.gcf().autofmt_xdate()\n",
    "# plt.show()"
   ]
  },
  {
   "cell_type": "code",
   "execution_count": null,
   "metadata": {},
   "outputs": [],
   "source": [
    "os.system(f\"snscrape --jsonl --max-results {max_results} --since {start_date} twitter-search \\\n",
    "\\\"from:{user_from} until:{end_date}\\\" > {user_from}.json\")"
   ]
  },
  {
   "cell_type": "code",
   "execution_count": 7,
   "metadata": {},
   "outputs": [
    {
     "data": {
      "text/html": [
       "<div>\n",
       "<style scoped>\n",
       "    .dataframe tbody tr th:only-of-type {\n",
       "        vertical-align: middle;\n",
       "    }\n",
       "\n",
       "    .dataframe tbody tr th {\n",
       "        vertical-align: top;\n",
       "    }\n",
       "\n",
       "    .dataframe thead th {\n",
       "        text-align: right;\n",
       "    }\n",
       "</style>\n",
       "<table border=\"1\" class=\"dataframe\">\n",
       "  <thead>\n",
       "    <tr style=\"text-align: right;\">\n",
       "      <th></th>\n",
       "      <th>date</th>\n",
       "      <th>text</th>\n",
       "    </tr>\n",
       "  </thead>\n",
       "  <tbody>\n",
       "    <tr>\n",
       "      <th>0</th>\n",
       "      <td>2021-12-28 17:39:30+00:00</td>\n",
       "      <td>@jagograhakjago has notified new direct sellin...</td>\n",
       "    </tr>\n",
       "    <tr>\n",
       "      <th>1</th>\n",
       "      <td>2021-12-28 15:19:27+00:00</td>\n",
       "      <td>#Sebi has decided to tighten norms for IPOs in...</td>\n",
       "    </tr>\n",
       "    <tr>\n",
       "      <th>2</th>\n",
       "      <td>2021-12-28 13:47:11+00:00</td>\n",
       "      <td>#Sebi has decided that unit holders' consent w...</td>\n",
       "    </tr>\n",
       "    <tr>\n",
       "      <th>3</th>\n",
       "      <td>2021-12-28 12:47:47+00:00</td>\n",
       "      <td>@RBI has called for tightening of banks' risk ...</td>\n",
       "    </tr>\n",
       "    <tr>\n",
       "      <th>4</th>\n",
       "      <td>2021-12-28 10:35:04+00:00</td>\n",
       "      <td>Sensex Rallies 477 Points, Nifty Ends Above 17...</td>\n",
       "    </tr>\n",
       "    <tr>\n",
       "      <th>...</th>\n",
       "      <td>...</td>\n",
       "      <td>...</td>\n",
       "    </tr>\n",
       "    <tr>\n",
       "      <th>72820</th>\n",
       "      <td>2015-01-01 03:46:36+00:00</td>\n",
       "      <td>Markets open lower: Sensex down 0.30% to 27,41...</td>\n",
       "    </tr>\n",
       "    <tr>\n",
       "      <th>72821</th>\n",
       "      <td>2015-01-01 03:35:28+00:00</td>\n",
       "      <td>Oil ends on a low after halving in 2014 as OPE...</td>\n",
       "    </tr>\n",
       "    <tr>\n",
       "      <th>72822</th>\n",
       "      <td>2015-01-01 03:31:39+00:00</td>\n",
       "      <td>Rupee opens lower at 63.17 per dollar against ...</td>\n",
       "    </tr>\n",
       "    <tr>\n",
       "      <th>72823</th>\n",
       "      <td>2015-01-01 03:00:44+00:00</td>\n",
       "      <td>Glenmark, LIC Housing Finance, NBCC in focus t...</td>\n",
       "    </tr>\n",
       "    <tr>\n",
       "      <th>72824</th>\n",
       "      <td>2015-01-01 02:06:54+00:00</td>\n",
       "      <td>US stocks post sixth straight year of gains\\np...</td>\n",
       "    </tr>\n",
       "  </tbody>\n",
       "</table>\n",
       "<p>72825 rows × 2 columns</p>\n",
       "</div>"
      ],
      "text/plain": [
       "                           date  \\\n",
       "0     2021-12-28 17:39:30+00:00   \n",
       "1     2021-12-28 15:19:27+00:00   \n",
       "2     2021-12-28 13:47:11+00:00   \n",
       "3     2021-12-28 12:47:47+00:00   \n",
       "4     2021-12-28 10:35:04+00:00   \n",
       "...                         ...   \n",
       "72820 2015-01-01 03:46:36+00:00   \n",
       "72821 2015-01-01 03:35:28+00:00   \n",
       "72822 2015-01-01 03:31:39+00:00   \n",
       "72823 2015-01-01 03:00:44+00:00   \n",
       "72824 2015-01-01 02:06:54+00:00   \n",
       "\n",
       "                                                    text  \n",
       "0      @jagograhakjago has notified new direct sellin...  \n",
       "1      #Sebi has decided to tighten norms for IPOs in...  \n",
       "2      #Sebi has decided that unit holders' consent w...  \n",
       "3      @RBI has called for tightening of banks' risk ...  \n",
       "4      Sensex Rallies 477 Points, Nifty Ends Above 17...  \n",
       "...                                                  ...  \n",
       "72820  Markets open lower: Sensex down 0.30% to 27,41...  \n",
       "72821  Oil ends on a low after halving in 2014 as OPE...  \n",
       "72822  Rupee opens lower at 63.17 per dollar against ...  \n",
       "72823  Glenmark, LIC Housing Finance, NBCC in focus t...  \n",
       "72824  US stocks post sixth straight year of gains\\np...  \n",
       "\n",
       "[72825 rows x 2 columns]"
      ]
     },
     "execution_count": 7,
     "metadata": {},
     "output_type": "execute_result"
    }
   ],
   "source": [
    "tweets_df = pd.read_json(f'{user_from}.json', lines=True)\n",
    "tweets_df = tweets_df[['date', 'renderedContent']]\n",
    "tweets_df.columns = ['date', 'text']\n",
    "# tweets_df['index'] = tweets_df.index\n",
    "tweets_df"
   ]
  },
  {
   "cell_type": "code",
   "execution_count": 8,
   "metadata": {},
   "outputs": [
    {
     "data": {
      "text/html": [
       "<div>\n",
       "<style scoped>\n",
       "    .dataframe tbody tr th:only-of-type {\n",
       "        vertical-align: middle;\n",
       "    }\n",
       "\n",
       "    .dataframe tbody tr th {\n",
       "        vertical-align: top;\n",
       "    }\n",
       "\n",
       "    .dataframe thead th {\n",
       "        text-align: right;\n",
       "    }\n",
       "</style>\n",
       "<table border=\"1\" class=\"dataframe\">\n",
       "  <thead>\n",
       "    <tr style=\"text-align: right;\">\n",
       "      <th></th>\n",
       "      <th>date</th>\n",
       "      <th>text</th>\n",
       "    </tr>\n",
       "  </thead>\n",
       "  <tbody>\n",
       "    <tr>\n",
       "      <th>0</th>\n",
       "      <td>2021-12-28</td>\n",
       "      <td>jagograhakjago has notified new direct sellin...</td>\n",
       "    </tr>\n",
       "    <tr>\n",
       "      <th>1</th>\n",
       "      <td>2021-12-28</td>\n",
       "      <td>sebi has decided to tighten norms for ipos in...</td>\n",
       "    </tr>\n",
       "    <tr>\n",
       "      <th>2</th>\n",
       "      <td>2021-12-28</td>\n",
       "      <td>sebi has decided that unit holders consent wi...</td>\n",
       "    </tr>\n",
       "    <tr>\n",
       "      <th>3</th>\n",
       "      <td>2021-12-28</td>\n",
       "      <td>rbi has called for tightening of banks risk m...</td>\n",
       "    </tr>\n",
       "    <tr>\n",
       "      <th>4</th>\n",
       "      <td>2021-12-28</td>\n",
       "      <td>sensex rallies points nifty ends above on glob...</td>\n",
       "    </tr>\n",
       "    <tr>\n",
       "      <th>...</th>\n",
       "      <td>...</td>\n",
       "      <td>...</td>\n",
       "    </tr>\n",
       "    <tr>\n",
       "      <th>72820</th>\n",
       "      <td>2015-01-01</td>\n",
       "      <td>markets open lower sensex down to nifty slips to</td>\n",
       "    </tr>\n",
       "    <tr>\n",
       "      <th>72821</th>\n",
       "      <td>2015-01-01</td>\n",
       "      <td>oil ends on a low after halving in as opec sta...</td>\n",
       "    </tr>\n",
       "    <tr>\n",
       "      <th>72822</th>\n",
       "      <td>2015-01-01</td>\n",
       "      <td>rupee opens lower at per dollar against wednes...</td>\n",
       "    </tr>\n",
       "    <tr>\n",
       "      <th>72823</th>\n",
       "      <td>2015-01-01</td>\n",
       "      <td>glenmark lic housing finance nbcc in focus tod...</td>\n",
       "    </tr>\n",
       "    <tr>\n",
       "      <th>72824</th>\n",
       "      <td>2015-01-01</td>\n",
       "      <td>us stocks post sixth straight year of gains pr...</td>\n",
       "    </tr>\n",
       "  </tbody>\n",
       "</table>\n",
       "<p>72825 rows × 2 columns</p>\n",
       "</div>"
      ],
      "text/plain": [
       "            date                                               text\n",
       "0     2021-12-28   jagograhakjago has notified new direct sellin...\n",
       "1     2021-12-28   sebi has decided to tighten norms for ipos in...\n",
       "2     2021-12-28   sebi has decided that unit holders consent wi...\n",
       "3     2021-12-28   rbi has called for tightening of banks risk m...\n",
       "4     2021-12-28  sensex rallies points nifty ends above on glob...\n",
       "...          ...                                                ...\n",
       "72820 2015-01-01  markets open lower sensex down to nifty slips to \n",
       "72821 2015-01-01  oil ends on a low after halving in as opec sta...\n",
       "72822 2015-01-01  rupee opens lower at per dollar against wednes...\n",
       "72823 2015-01-01  glenmark lic housing finance nbcc in focus tod...\n",
       "72824 2015-01-01  us stocks post sixth straight year of gains pr...\n",
       "\n",
       "[72825 rows x 2 columns]"
      ]
     },
     "execution_count": 8,
     "metadata": {},
     "output_type": "execute_result"
    }
   ],
   "source": [
    "# CLEAN DATES AND TEXT OF TWEETS\n",
    "\n",
    "tweets_df['text']  = tweets_df.apply(clean_text, axis=1)\n",
    "clean_dates(tweets_df)\n",
    "tweets_df['date'] = pd.to_datetime(tweets_df['date'])\n",
    "tweets_df"
   ]
  },
  {
   "cell_type": "code",
   "execution_count": 14,
   "metadata": {},
   "outputs": [],
   "source": [
    "tweets = tweets_df.copy()"
   ]
  },
  {
   "cell_type": "code",
   "execution_count": 47,
   "metadata": {},
   "outputs": [],
   "source": [
    "def fil(data):\n",
    "    if data:\n",
    "        return data[10]\n",
    "    else:\n",
    "        return data"
   ]
  },
  {
   "cell_type": "code",
   "execution_count": 15,
   "metadata": {},
   "outputs": [
    {
     "data": {
      "text/plain": [
       "'central bank allots shares to lic to raise over rs crore profit com news market ar #wipro seeks members nod to reduce share capital profit com news corporate #excise duty on petrol diesel hiked by rs litre profit com news commoditi #government hikes excise duty on petrol and diesel by rs a litre press trust of india#sebi to revitalise primary market with e ipo in new year profit com news ipo artic #auto companies in wait and watch mode on prices profit com news industrie #tvs motor sales up in december profit com news corporate #pm modi is meet with psu bankers good for industry sbi profit com news economy a #fii inflows hit record billion in debt markets in profit com news market ar #hero motocorp sales rise marginally in december profit com news corporate #expect returns annually over years sundaram mf profit com news market ar #mahindra amp mahindra sales down in december profit com news corporate #sensex starts on a positive note ends points higher at #meeting fiscal deficit target of looks challenging nomura profit com news economy a #snapdeal gets of orders through mobiles kunal bahl profit com news industrie #rbi cautions investors against multi level marketing firms profit com news market ot # lakh new jobs up to pay hike seen this year profit com news careers a #muthoot finance surges on sri lankan acquisition profit com news market ar #jet airways spicejet gain on aviation fuel price cut profit com news market ar # new year is resolutions to be rich this year profit com news your mone #aviation fuel price cut by jet airways spicejet shares rally nearly #non subsidised lpg price cut by rs per kg cylinder press trust of india#sensex rangebound amid thin trade nifty above profit com news market ar # niti ayog new name for restructured planning commission profit com news economy a #maruti suzuki shares rise after december sales surge profit com news market ar #maruti suzuki sales up in december to lakh units shares up #why db realty is up over in two days profit com news market ar #kalpataru power transmission gains on new orders profit com news market ar #clariant chemicals surges on land deal profit com news market ar #consolidation of psu banks to be key theme at pm modi is gyan sangam profit com news industrie #sensex falls points nifty hovers around profit com news market ar #markets open lower sensex down to nifty slips to #oil ends on a low after halving in as opec stands aside profit com news commoditi #rupee opens lower at per dollar against wednesday is close of #glenmark lic housing finance nbcc in focus today profit com news cheat she #us stocks post sixth straight year of gains profit com news market ar '"
      ]
     },
     "execution_count": 15,
     "metadata": {},
     "output_type": "execute_result"
    }
   ],
   "source": [
    "tweets.groupby('date')['text'].apply('#'.join).iloc[0]"
   ]
  },
  {
   "cell_type": "code",
   "execution_count": 10,
   "metadata": {},
   "outputs": [],
   "source": [
    "tweets_senti = tweets_df"
   ]
  },
  {
   "cell_type": "code",
   "execution_count": 13,
   "metadata": {},
   "outputs": [
    {
     "data": {
      "text/html": [
       "<div>\n",
       "<style scoped>\n",
       "    .dataframe tbody tr th:only-of-type {\n",
       "        vertical-align: middle;\n",
       "    }\n",
       "\n",
       "    .dataframe tbody tr th {\n",
       "        vertical-align: top;\n",
       "    }\n",
       "\n",
       "    .dataframe thead th {\n",
       "        text-align: right;\n",
       "    }\n",
       "</style>\n",
       "<table border=\"1\" class=\"dataframe\">\n",
       "  <thead>\n",
       "    <tr style=\"text-align: right;\">\n",
       "      <th></th>\n",
       "      <th>date</th>\n",
       "      <th>text</th>\n",
       "      <th>score</th>\n",
       "      <th>sentiment</th>\n",
       "    </tr>\n",
       "  </thead>\n",
       "  <tbody>\n",
       "    <tr>\n",
       "      <th>72820</th>\n",
       "      <td>2015-01-01</td>\n",
       "      <td>markets open lower sensex down to nifty slips to</td>\n",
       "      <td>0.1280</td>\n",
       "      <td>1.0</td>\n",
       "    </tr>\n",
       "    <tr>\n",
       "      <th>72821</th>\n",
       "      <td>2015-01-01</td>\n",
       "      <td>oil ends on a low after halving in as opec sta...</td>\n",
       "      <td>0.8979</td>\n",
       "      <td>1.0</td>\n",
       "    </tr>\n",
       "    <tr>\n",
       "      <th>72822</th>\n",
       "      <td>2015-01-01</td>\n",
       "      <td>rupee opens lower at per dollar against wednes...</td>\n",
       "      <td>-0.2960</td>\n",
       "      <td>-1.0</td>\n",
       "    </tr>\n",
       "    <tr>\n",
       "      <th>72823</th>\n",
       "      <td>2015-01-01</td>\n",
       "      <td>glenmark lic housing finance nbcc in focus tod...</td>\n",
       "      <td>0.8750</td>\n",
       "      <td>1.0</td>\n",
       "    </tr>\n",
       "    <tr>\n",
       "      <th>72824</th>\n",
       "      <td>2015-01-01</td>\n",
       "      <td>us stocks post sixth straight year of gains pr...</td>\n",
       "      <td>0.9460</td>\n",
       "      <td>1.0</td>\n",
       "    </tr>\n",
       "  </tbody>\n",
       "</table>\n",
       "</div>"
      ],
      "text/plain": [
       "            date                                               text   score  \\\n",
       "72820 2015-01-01  markets open lower sensex down to nifty slips to   0.1280   \n",
       "72821 2015-01-01  oil ends on a low after halving in as opec sta...  0.8979   \n",
       "72822 2015-01-01  rupee opens lower at per dollar against wednes... -0.2960   \n",
       "72823 2015-01-01  glenmark lic housing finance nbcc in focus tod...  0.8750   \n",
       "72824 2015-01-01  us stocks post sixth straight year of gains pr...  0.9460   \n",
       "\n",
       "       sentiment  \n",
       "72820        1.0  \n",
       "72821        1.0  \n",
       "72822       -1.0  \n",
       "72823        1.0  \n",
       "72824        1.0  "
      ]
     },
     "execution_count": 13,
     "metadata": {},
     "output_type": "execute_result"
    }
   ],
   "source": [
    "# from tqdm.notebook import tqdm_notebook\n",
    "new_words = {'falls': -9, 'drops': -9, 'rise': 9, 'increases': 9, 'gain': 9, 'hiked': -9, 'dips': -9, 'declines': -9,\n",
    "'decline': -9, 'hikes': -9, 'jumps': 9, 'lose': -9, 'profit': 9, 'loss': -9, 'shreds': -9, 'sell': -9, 'buy': 9, 'recession': -9,\n",
    "'rupee weakens': -9, 'record low': -9, 'record high': 9, 'sensex up': 9, 'nifty down': -9, 'sensex down': -9, 'nifty up': 9}\n",
    "\n",
    "analyser = SentimentIntensityAnalyzer()\n",
    "analyser.lexicon.update(new_words)\n",
    "\n",
    "for i in (tweets_senti.itertuples()):\n",
    "    score = analyser.polarity_scores(tweets_senti.iloc[i[0]]['text'])\n",
    "    tweets_senti.at[i[0], 'score'] = score['compound']\n",
    "    if score['compound'] >= 0:\n",
    "        tweets_senti.at[i[0], 'sentiment'] = 1\n",
    "    else:\n",
    "       tweets_senti.at[i[0], 'sentiment'] = -1\n",
    "\n",
    "tweets_senti.tail()"
   ]
  },
  {
   "cell_type": "code",
   "execution_count": null,
   "metadata": {},
   "outputs": [],
   "source": [
    "# # GROUPBY THE DATE AND CONCATINATE TWEET TEXT\n",
    "# tweets_df['text'] = tweets_df.groupby('date')['text'].transform(' '.join)\n",
    "# tweets_df"
   ]
  },
  {
   "cell_type": "code",
   "execution_count": 14,
   "metadata": {},
   "outputs": [
    {
     "data": {
      "text/html": [
       "<div>\n",
       "<style scoped>\n",
       "    .dataframe tbody tr th:only-of-type {\n",
       "        vertical-align: middle;\n",
       "    }\n",
       "\n",
       "    .dataframe tbody tr th {\n",
       "        vertical-align: top;\n",
       "    }\n",
       "\n",
       "    .dataframe thead th {\n",
       "        text-align: right;\n",
       "    }\n",
       "</style>\n",
       "<table border=\"1\" class=\"dataframe\">\n",
       "  <thead>\n",
       "    <tr style=\"text-align: right;\">\n",
       "      <th></th>\n",
       "      <th>date</th>\n",
       "      <th>text</th>\n",
       "      <th>score</th>\n",
       "      <th>sentiment</th>\n",
       "      <th>senti</th>\n",
       "    </tr>\n",
       "  </thead>\n",
       "  <tbody>\n",
       "    <tr>\n",
       "      <th>0</th>\n",
       "      <td>2021-12-28</td>\n",
       "      <td>jagograhakjago has notified new direct sellin...</td>\n",
       "      <td>0.5574</td>\n",
       "      <td>1.0</td>\n",
       "      <td>0.272183</td>\n",
       "    </tr>\n",
       "    <tr>\n",
       "      <th>1</th>\n",
       "      <td>2021-12-28</td>\n",
       "      <td>sebi has decided to tighten norms for ipos in...</td>\n",
       "      <td>0.0000</td>\n",
       "      <td>1.0</td>\n",
       "      <td>0.272183</td>\n",
       "    </tr>\n",
       "    <tr>\n",
       "      <th>2</th>\n",
       "      <td>2021-12-28</td>\n",
       "      <td>sebi has decided that unit holders consent wi...</td>\n",
       "      <td>0.2960</td>\n",
       "      <td>1.0</td>\n",
       "      <td>0.272183</td>\n",
       "    </tr>\n",
       "    <tr>\n",
       "      <th>3</th>\n",
       "      <td>2021-12-28</td>\n",
       "      <td>rbi has called for tightening of banks risk m...</td>\n",
       "      <td>-0.2023</td>\n",
       "      <td>-1.0</td>\n",
       "      <td>0.272183</td>\n",
       "    </tr>\n",
       "    <tr>\n",
       "      <th>4</th>\n",
       "      <td>2021-12-28</td>\n",
       "      <td>sensex rallies points nifty ends above on glob...</td>\n",
       "      <td>0.5994</td>\n",
       "      <td>1.0</td>\n",
       "      <td>0.272183</td>\n",
       "    </tr>\n",
       "    <tr>\n",
       "      <th>...</th>\n",
       "      <td>...</td>\n",
       "      <td>...</td>\n",
       "      <td>...</td>\n",
       "      <td>...</td>\n",
       "      <td>...</td>\n",
       "    </tr>\n",
       "    <tr>\n",
       "      <th>72820</th>\n",
       "      <td>2015-01-01</td>\n",
       "      <td>markets open lower sensex down to nifty slips to</td>\n",
       "      <td>0.1280</td>\n",
       "      <td>1.0</td>\n",
       "      <td>0.709969</td>\n",
       "    </tr>\n",
       "    <tr>\n",
       "      <th>72821</th>\n",
       "      <td>2015-01-01</td>\n",
       "      <td>oil ends on a low after halving in as opec sta...</td>\n",
       "      <td>0.8979</td>\n",
       "      <td>1.0</td>\n",
       "      <td>0.709969</td>\n",
       "    </tr>\n",
       "    <tr>\n",
       "      <th>72822</th>\n",
       "      <td>2015-01-01</td>\n",
       "      <td>rupee opens lower at per dollar against wednes...</td>\n",
       "      <td>-0.2960</td>\n",
       "      <td>-1.0</td>\n",
       "      <td>0.709969</td>\n",
       "    </tr>\n",
       "    <tr>\n",
       "      <th>72823</th>\n",
       "      <td>2015-01-01</td>\n",
       "      <td>glenmark lic housing finance nbcc in focus tod...</td>\n",
       "      <td>0.8750</td>\n",
       "      <td>1.0</td>\n",
       "      <td>0.709969</td>\n",
       "    </tr>\n",
       "    <tr>\n",
       "      <th>72824</th>\n",
       "      <td>2015-01-01</td>\n",
       "      <td>us stocks post sixth straight year of gains pr...</td>\n",
       "      <td>0.9460</td>\n",
       "      <td>1.0</td>\n",
       "      <td>0.709969</td>\n",
       "    </tr>\n",
       "  </tbody>\n",
       "</table>\n",
       "<p>72825 rows × 5 columns</p>\n",
       "</div>"
      ],
      "text/plain": [
       "            date                                               text   score  \\\n",
       "0     2021-12-28   jagograhakjago has notified new direct sellin...  0.5574   \n",
       "1     2021-12-28   sebi has decided to tighten norms for ipos in...  0.0000   \n",
       "2     2021-12-28   sebi has decided that unit holders consent wi...  0.2960   \n",
       "3     2021-12-28   rbi has called for tightening of banks risk m... -0.2023   \n",
       "4     2021-12-28  sensex rallies points nifty ends above on glob...  0.5994   \n",
       "...          ...                                                ...     ...   \n",
       "72820 2015-01-01  markets open lower sensex down to nifty slips to   0.1280   \n",
       "72821 2015-01-01  oil ends on a low after halving in as opec sta...  0.8979   \n",
       "72822 2015-01-01  rupee opens lower at per dollar against wednes... -0.2960   \n",
       "72823 2015-01-01  glenmark lic housing finance nbcc in focus tod...  0.8750   \n",
       "72824 2015-01-01  us stocks post sixth straight year of gains pr...  0.9460   \n",
       "\n",
       "       sentiment     senti  \n",
       "0            1.0  0.272183  \n",
       "1            1.0  0.272183  \n",
       "2            1.0  0.272183  \n",
       "3           -1.0  0.272183  \n",
       "4            1.0  0.272183  \n",
       "...          ...       ...  \n",
       "72820        1.0  0.709969  \n",
       "72821        1.0  0.709969  \n",
       "72822       -1.0  0.709969  \n",
       "72823        1.0  0.709969  \n",
       "72824        1.0  0.709969  \n",
       "\n",
       "[72825 rows x 5 columns]"
      ]
     },
     "execution_count": 14,
     "metadata": {},
     "output_type": "execute_result"
    }
   ],
   "source": [
    "# GROUPBY THE DATE AND CONCATINATE TWEET TEXT\n",
    "tweets_senti['senti'] = tweets_senti.groupby('date')['score'].transform(np.average)\n",
    "tweets_senti"
   ]
  },
  {
   "cell_type": "code",
   "execution_count": 15,
   "metadata": {},
   "outputs": [
    {
     "name": "stderr",
     "output_type": "stream",
     "text": [
      "/home/studio-lab-user/.conda/envs/default/lib/python3.9/site-packages/pandas/util/_decorators.py:311: SettingWithCopyWarning: \n",
      "A value is trying to be set on a copy of a slice from a DataFrame\n",
      "\n",
      "See the caveats in the documentation: https://pandas.pydata.org/pandas-docs/stable/user_guide/indexing.html#returning-a-view-versus-a-copy\n",
      "  return func(*args, **kwargs)\n"
     ]
    },
    {
     "data": {
      "text/html": [
       "<div>\n",
       "<style scoped>\n",
       "    .dataframe tbody tr th:only-of-type {\n",
       "        vertical-align: middle;\n",
       "    }\n",
       "\n",
       "    .dataframe tbody tr th {\n",
       "        vertical-align: top;\n",
       "    }\n",
       "\n",
       "    .dataframe thead th {\n",
       "        text-align: right;\n",
       "    }\n",
       "</style>\n",
       "<table border=\"1\" class=\"dataframe\">\n",
       "  <thead>\n",
       "    <tr style=\"text-align: right;\">\n",
       "      <th></th>\n",
       "      <th>index</th>\n",
       "      <th>date</th>\n",
       "      <th>senti</th>\n",
       "    </tr>\n",
       "  </thead>\n",
       "  <tbody>\n",
       "    <tr>\n",
       "      <th>0</th>\n",
       "      <td>0</td>\n",
       "      <td>2021-12-28</td>\n",
       "      <td>0.272183</td>\n",
       "    </tr>\n",
       "    <tr>\n",
       "      <th>1</th>\n",
       "      <td>12</td>\n",
       "      <td>2021-12-27</td>\n",
       "      <td>0.296000</td>\n",
       "    </tr>\n",
       "    <tr>\n",
       "      <th>2</th>\n",
       "      <td>13</td>\n",
       "      <td>2021-12-25</td>\n",
       "      <td>0.226933</td>\n",
       "    </tr>\n",
       "    <tr>\n",
       "      <th>3</th>\n",
       "      <td>16</td>\n",
       "      <td>2021-12-24</td>\n",
       "      <td>0.074000</td>\n",
       "    </tr>\n",
       "    <tr>\n",
       "      <th>4</th>\n",
       "      <td>24</td>\n",
       "      <td>2021-12-23</td>\n",
       "      <td>0.118400</td>\n",
       "    </tr>\n",
       "    <tr>\n",
       "      <th>...</th>\n",
       "      <td>...</td>\n",
       "      <td>...</td>\n",
       "      <td>...</td>\n",
       "    </tr>\n",
       "    <tr>\n",
       "      <th>2478</th>\n",
       "      <td>72641</td>\n",
       "      <td>2015-01-05</td>\n",
       "      <td>0.679431</td>\n",
       "    </tr>\n",
       "    <tr>\n",
       "      <th>2479</th>\n",
       "      <td>72693</td>\n",
       "      <td>2015-01-04</td>\n",
       "      <td>0.924806</td>\n",
       "    </tr>\n",
       "    <tr>\n",
       "      <th>2480</th>\n",
       "      <td>72709</td>\n",
       "      <td>2015-01-03</td>\n",
       "      <td>0.579631</td>\n",
       "    </tr>\n",
       "    <tr>\n",
       "      <th>2481</th>\n",
       "      <td>72744</td>\n",
       "      <td>2015-01-02</td>\n",
       "      <td>0.698253</td>\n",
       "    </tr>\n",
       "    <tr>\n",
       "      <th>2482</th>\n",
       "      <td>72789</td>\n",
       "      <td>2015-01-01</td>\n",
       "      <td>0.709969</td>\n",
       "    </tr>\n",
       "  </tbody>\n",
       "</table>\n",
       "<p>2483 rows × 3 columns</p>\n",
       "</div>"
      ],
      "text/plain": [
       "      index       date     senti\n",
       "0         0 2021-12-28  0.272183\n",
       "1        12 2021-12-27  0.296000\n",
       "2        13 2021-12-25  0.226933\n",
       "3        16 2021-12-24  0.074000\n",
       "4        24 2021-12-23  0.118400\n",
       "...     ...        ...       ...\n",
       "2478  72641 2015-01-05  0.679431\n",
       "2479  72693 2015-01-04  0.924806\n",
       "2480  72709 2015-01-03  0.579631\n",
       "2481  72744 2015-01-02  0.698253\n",
       "2482  72789 2015-01-01  0.709969\n",
       "\n",
       "[2483 rows x 3 columns]"
      ]
     },
     "execution_count": 15,
     "metadata": {},
     "output_type": "execute_result"
    }
   ],
   "source": [
    "tweets_df = tweets_df[['date', 'senti']]\n",
    "tweets_df.drop_duplicates(inplace=True)\n",
    "tweets_df.reset_index(inplace=True)\n",
    "tweets_df"
   ]
  },
  {
   "cell_type": "code",
   "execution_count": 16,
   "metadata": {},
   "outputs": [
    {
     "data": {
      "text/plain": [
       "Text(0, 0.5, 'Sentiment Scores')"
      ]
     },
     "execution_count": 16,
     "metadata": {},
     "output_type": "execute_result"
    },
    {
     "data": {
      "image/png": "[encoded data removed]",
      "text/plain": [
       "<Figure size 1440x360 with 1 Axes>"
      ]
     },
     "metadata": {
      "needs_background": "light"
     },
     "output_type": "display_data"
    }
   ],
   "source": [
    "\n",
    "plt.figure(figsize=(20, 5))\n",
    "plt.plot(tweets_df['date'], tweets_df['senti'])\n",
    "plt.xlabel('Years')\n",
    "plt.ylabel('Sentiment Scores')"
   ]
  },
  {
   "cell_type": "code",
   "execution_count": 17,
   "metadata": {},
   "outputs": [
    {
     "data": {
      "text/plain": [
       "Text(0, 0.5, 'Sentiment Scores')"
      ]
     },
     "execution_count": 17,
     "metadata": {},
     "output_type": "execute_result"
    },
    {
     "data": {
      "image/png": "[encoded data removed]",
      "text/plain": [
       "<Figure size 1440x360 with 1 Axes>"
      ]
     },
     "metadata": {
      "needs_background": "light"
     },
     "output_type": "display_data"
    }
   ],
   "source": [
    "\n",
    "plt.figure(figsize=(20, 5))\n",
    "plt.plot(tweets_senti['score'])\n",
    "plt.xlabel('Years')\n",
    "plt.ylabel('Sentiment Scores')"
   ]
  },
  {
   "cell_type": "code",
   "execution_count": 18,
   "metadata": {},
   "outputs": [
    {
     "ename": "KeyError",
     "evalue": "'Column not found: score'",
     "output_type": "error",
     "traceback": [
      "\u001b[0;31m---------------------------------------------------------------------------\u001b[0m",
      "\u001b[0;31mKeyError\u001b[0m                                  Traceback (most recent call last)",
      "\u001b[0;32m/tmp/ipykernel_125/4249353656.py\u001b[0m in \u001b[0;36m<module>\u001b[0;34m\u001b[0m\n\u001b[1;32m      1\u001b[0m \u001b[0;31m# GROUPBY THE DATE AND CONCATINATE TWEET TEXT\u001b[0m\u001b[0;34m\u001b[0m\u001b[0;34m\u001b[0m\u001b[0m\n\u001b[0;32m----> 2\u001b[0;31m \u001b[0mtweets_df\u001b[0m\u001b[0;34m[\u001b[0m\u001b[0;34m'senti'\u001b[0m\u001b[0;34m]\u001b[0m \u001b[0;34m=\u001b[0m \u001b[0mtweets_df\u001b[0m\u001b[0;34m.\u001b[0m\u001b[0mgroupby\u001b[0m\u001b[0;34m(\u001b[0m\u001b[0;34m'date'\u001b[0m\u001b[0;34m)\u001b[0m\u001b[0;34m[\u001b[0m\u001b[0;34m'score'\u001b[0m\u001b[0;34m]\u001b[0m\u001b[0;34m.\u001b[0m\u001b[0mtransform\u001b[0m\u001b[0;34m(\u001b[0m\u001b[0mnp\u001b[0m\u001b[0;34m.\u001b[0m\u001b[0mmean\u001b[0m\u001b[0;34m)\u001b[0m\u001b[0;34m\u001b[0m\u001b[0;34m\u001b[0m\u001b[0m\n\u001b[0m\u001b[1;32m      3\u001b[0m \u001b[0mtweets_df\u001b[0m\u001b[0;34m\u001b[0m\u001b[0;34m\u001b[0m\u001b[0m\n",
      "\u001b[0;32m~/.conda/envs/default/lib/python3.9/site-packages/pandas/core/groupby/generic.py\u001b[0m in \u001b[0;36m__getitem__\u001b[0;34m(self, key)\u001b[0m\n\u001b[1;32m   1536\u001b[0m                 \u001b[0mstacklevel\u001b[0m\u001b[0;34m=\u001b[0m\u001b[0;36m2\u001b[0m\u001b[0;34m,\u001b[0m\u001b[0;34m\u001b[0m\u001b[0;34m\u001b[0m\u001b[0m\n\u001b[1;32m   1537\u001b[0m             )\n\u001b[0;32m-> 1538\u001b[0;31m         \u001b[0;32mreturn\u001b[0m \u001b[0msuper\u001b[0m\u001b[0;34m(\u001b[0m\u001b[0;34m)\u001b[0m\u001b[0;34m.\u001b[0m\u001b[0m__getitem__\u001b[0m\u001b[0;34m(\u001b[0m\u001b[0mkey\u001b[0m\u001b[0;34m)\u001b[0m\u001b[0;34m\u001b[0m\u001b[0;34m\u001b[0m\u001b[0m\n\u001b[0m\u001b[1;32m   1539\u001b[0m \u001b[0;34m\u001b[0m\u001b[0m\n\u001b[1;32m   1540\u001b[0m     \u001b[0;32mdef\u001b[0m \u001b[0m_gotitem\u001b[0m\u001b[0;34m(\u001b[0m\u001b[0mself\u001b[0m\u001b[0;34m,\u001b[0m \u001b[0mkey\u001b[0m\u001b[0;34m,\u001b[0m \u001b[0mndim\u001b[0m\u001b[0;34m:\u001b[0m \u001b[0mint\u001b[0m\u001b[0;34m,\u001b[0m \u001b[0msubset\u001b[0m\u001b[0;34m=\u001b[0m\u001b[0;32mNone\u001b[0m\u001b[0;34m)\u001b[0m\u001b[0;34m:\u001b[0m\u001b[0;34m\u001b[0m\u001b[0;34m\u001b[0m\u001b[0m\n",
      "\u001b[0;32m~/.conda/envs/default/lib/python3.9/site-packages/pandas/core/base.py\u001b[0m in \u001b[0;36m__getitem__\u001b[0;34m(self, key)\u001b[0m\n\u001b[1;32m    230\u001b[0m         \u001b[0;32melse\u001b[0m\u001b[0;34m:\u001b[0m\u001b[0;34m\u001b[0m\u001b[0;34m\u001b[0m\u001b[0m\n\u001b[1;32m    231\u001b[0m             \u001b[0;32mif\u001b[0m \u001b[0mkey\u001b[0m \u001b[0;32mnot\u001b[0m \u001b[0;32min\u001b[0m \u001b[0mself\u001b[0m\u001b[0;34m.\u001b[0m\u001b[0mobj\u001b[0m\u001b[0;34m:\u001b[0m\u001b[0;34m\u001b[0m\u001b[0;34m\u001b[0m\u001b[0m\n\u001b[0;32m--> 232\u001b[0;31m                 \u001b[0;32mraise\u001b[0m \u001b[0mKeyError\u001b[0m\u001b[0;34m(\u001b[0m\u001b[0;34mf\"Column not found: {key}\"\u001b[0m\u001b[0;34m)\u001b[0m\u001b[0;34m\u001b[0m\u001b[0;34m\u001b[0m\u001b[0m\n\u001b[0m\u001b[1;32m    233\u001b[0m             \u001b[0msubset\u001b[0m \u001b[0;34m=\u001b[0m \u001b[0mself\u001b[0m\u001b[0;34m.\u001b[0m\u001b[0mobj\u001b[0m\u001b[0;34m[\u001b[0m\u001b[0mkey\u001b[0m\u001b[0;34m]\u001b[0m\u001b[0;34m\u001b[0m\u001b[0;34m\u001b[0m\u001b[0m\n\u001b[1;32m    234\u001b[0m             \u001b[0mndim\u001b[0m \u001b[0;34m=\u001b[0m \u001b[0msubset\u001b[0m\u001b[0;34m.\u001b[0m\u001b[0mndim\u001b[0m\u001b[0;34m\u001b[0m\u001b[0;34m\u001b[0m\u001b[0m\n",
      "\u001b[0;31mKeyError\u001b[0m: 'Column not found: score'"
     ]
    }
   ],
   "source": [
    "# GROUPBY THE DATE AND CONCATINATE TWEET TEXT\n",
    "tweets_df['senti'] = tweets_df.groupby('date')['score'].transform(np.mean)\n",
    "tweets_df"
   ]
  },
  {
   "cell_type": "code",
   "execution_count": null,
   "metadata": {},
   "outputs": [],
   "source": [
    "tweets_senti[tweets_senti['sentiment']==-1].count()"
   ]
  },
  {
   "cell_type": "code",
   "execution_count": null,
   "metadata": {},
   "outputs": [],
   "source": [
    "res1 = pd.merge(stocks_df, tweets_senti, on='date', how='outer')\n",
    "\n",
    "res1 = res1.dropna(subset=['prices'])\n",
    "# res1 = res1.dropna(subset=['text'])\n",
    "\n",
    "res1\n"
   ]
  },
  {
   "cell_type": "code",
   "execution_count": null,
   "metadata": {},
   "outputs": [],
   "source": [
    "res1"
   ]
  },
  {
   "cell_type": "code",
   "execution_count": null,
   "metadata": {},
   "outputs": [],
   "source": [
    "res1[res1['sentiment']==-1].count()"
   ]
  },
  {
   "cell_type": "code",
   "execution_count": null,
   "metadata": {},
   "outputs": [],
   "source": [
    "plt.figure()\n",
    "plt.plot(res1['date'], res1['prices'])"
   ]
  },
  {
   "cell_type": "code",
   "execution_count": null,
   "metadata": {},
   "outputs": [],
   "source": [
    "from wordcloud import WordCloud, STOPWORDS\n",
    "import matplotlib.pyplot as plt\n",
    "stopwords = set(STOPWORDS)\n",
    "\n",
    "def show_wordcloud(data, title = None):\n",
    "    wordcloud = WordCloud(\n",
    "        background_color='white',\n",
    "        stopwords=stopwords,\n",
    "        max_words=200000,\n",
    "        max_font_size=40, \n",
    "        scale=3,\n",
    "        random_state=1).generate(str(data))\n",
    "\n",
    "    fig = plt.figure(1, figsize=(12, 12))\n",
    "    plt.axis('off')\n",
    "    if title: \n",
    "        fig.suptitle(title, fontsize=20)\n",
    "        fig.subplots_adjust(top=2.3)\n",
    "\n",
    "    plt.imshow(wordcloud)\n",
    "    plt.show()\n",
    "\n",
    "print(\"Word Cloud for Positive Tweets\")\n",
    "show_wordcloud(res1[res1['sentiment'] == 1].values)\n",
    "print(\"\\nWord Cloud for Negative Tweets\")\n",
    "show_wordcloud(res1[res1['sentiment'] == -1].values)"
   ]
  },
  {
   "cell_type": "code",
   "execution_count": null,
   "metadata": {},
   "outputs": [],
   "source": [
    "\n",
    "plt.figure(figsize=(20, 5))\n",
    "plt.plot(res1['date'], res1['score'])\n",
    "plt.xlabel('Years')\n",
    "plt.ylabel('Sentiment Scores')"
   ]
  },
  {
   "cell_type": "code",
   "execution_count": null,
   "metadata": {},
   "outputs": [],
   "source": [
    "res1.to_csv('data_with_senti.csv')"
   ]
  },
  {
   "cell_type": "code",
   "execution_count": null,
   "metadata": {
    "jupyter": {
     "source_hidden": true
    },
    "tags": []
   },
   "outputs": [],
   "source": [
    "# res = pd.merge(stocks_df, tweets_df, on='date', how='outer')\n",
    "\n",
    "# res = res.dropna(subset=['prices'])\n",
    "# res = res.dropna(subset=['text'])\n",
    "\n",
    "\n",
    "# print(res.count())\n",
    "# res.head()"
   ]
  },
  {
   "cell_type": "code",
   "execution_count": null,
   "metadata": {
    "jupyter": {
     "source_hidden": true
    },
    "tags": []
   },
   "outputs": [],
   "source": [
    "# senti = res.apply(lambda row: sentiment_scores(row['text']), axis=1)\n",
    "# senti = pd.DataFrame({'sentiment' : senti})\n",
    "# senti\n",
    "# df_s = pd.merge(res, senti, left_index=True, right_index=True)\n",
    "# df_s.info()"
   ]
  },
  {
   "cell_type": "code",
   "execution_count": null,
   "metadata": {
    "jupyter": {
     "source_hidden": true
    },
    "tags": []
   },
   "outputs": [],
   "source": [
    "# df_s[df_s['sentiment']==-1].count()"
   ]
  },
  {
   "cell_type": "code",
   "execution_count": null,
   "metadata": {
    "jupyter": {
     "source_hidden": true
    },
    "tags": []
   },
   "outputs": [],
   "source": [
    "# tweets_senti = tweets_senti[['date', 'score']]\n",
    "\n",
    "# # tweets_df = tweets_df.groupby('date')['text'].apply(' '.join).reset_index()\n",
    "# tweets_senti"
   ]
  },
  {
   "cell_type": "code",
   "execution_count": null,
   "metadata": {
    "jupyter": {
     "source_hidden": true
    },
    "tags": []
   },
   "outputs": [],
   "source": [
    "# tweets_senti = tweets_senti.groupby('date')['score'].apply(np.mean).reset_index()\n",
    "# tweets_senti"
   ]
  },
  {
   "cell_type": "code",
   "execution_count": null,
   "metadata": {
    "jupyter": {
     "source_hidden": true
    },
    "tags": []
   },
   "outputs": [],
   "source": [
    "# def roun(row):\n",
    "#     return round(row['score'], 3)"
   ]
  },
  {
   "cell_type": "code",
   "execution_count": null,
   "metadata": {
    "jupyter": {
     "source_hidden": true
    },
    "tags": []
   },
   "outputs": [],
   "source": [
    "# # tweets_senti['score'] = tweets_senti.apply(roun, axis=1)\n",
    "# tweets_senti['score'] = tweets_senti.apply(lambda row: roun(row), axis=1)\n",
    "\n",
    "# tweets_senti\n"
   ]
  },
  {
   "cell_type": "code",
   "execution_count": null,
   "metadata": {
    "jupyter": {
     "source_hidden": true
    },
    "tags": []
   },
   "outputs": [],
   "source": [
    "# df_s[df_s['sentiment']==-1].count()"
   ]
  },
  {
   "cell_type": "code",
   "execution_count": null,
   "metadata": {
    "jupyter": {
     "source_hidden": true
    },
    "tags": []
   },
   "outputs": [],
   "source": [
    "# load_dotenv('./.env')\n",
    "# bearer_token = os.environ.get('AUTH_TOKEN')\n",
    "# client = tweepy.Client(bearer_token=bearer_token)"
   ]
  },
  {
   "cell_type": "code",
   "execution_count": null,
   "metadata": {
    "jupyter": {
     "source_hidden": true
    },
    "tags": []
   },
   "outputs": [],
   "source": [
    "# # bearer_token = 'AAAAAAAAAAAAAAAAAAAAAImEXQEAAAAAzpNyPIgZMrb8CVXRh%2FkK62Q15Co%3DpTVWTJ2wa913NzVXwBuOGUxXoWfvQiNIlEeChftC2jXvTlgPvh'\n",
    "# 'AAAAAAAAAAAAAAAAAAAAAImEXQEAAAAAzpNyPIgZMrb8CVXRh%2FkK62Q15Co%3DpTVWTJ2wa913NzVXwBuOGUxXoWfvQiNIlEeChftC2jXvTlgPvh'\n",
    "\n",
    "\n",
    "# start_time = '2019-11-24T00:00:00Z'\n",
    "# end_time = '2019-12-24T00:00:00Z'\n",
    "# def url_creation(id, ntoken=None,init=False):\n",
    "#   if init==True and not ntoken:\n",
    "#     return client.get_users_tweets(id=id, tweet_fields=['created_at'],start_time=start_time, end_time=end_time, max_results=100)\n",
    "\n",
    "#   return client.get_users_tweets(id=id, tweet_fields=['created_at'],start_time=start_time, end_time=end_time, max_results=100, pagination_token=ntoken)\n",
    "\n",
    "\n",
    "# def get_data(ls):\n",
    "#   ps = []\n",
    "#   for i in ls:\n",
    "#     p = decontracted(i['text'])\n",
    "#     p = clean(p)\n",
    "#     t = {'date':i['created_at'],'text':p}\n",
    "#     if p != ' ':\n",
    "#       ps.append(t)\n",
    "#   return ps\n"
   ]
  },
  {
   "cell_type": "code",
   "execution_count": null,
   "metadata": {
    "jupyter": {
     "source_hidden": true
    },
    "tags": []
   },
   "outputs": [],
   "source": [
    "# users = [420943164, 81083096]\n",
    "# id = '420943164'\n",
    "# master_list = []\n",
    "\n",
    "# initial_req = True\n",
    "# ntoken = None\n",
    "# while True:\n",
    "#     tweets = url_creation(id, ntoken=ntoken, init=initial_req)\n",
    "#     initial_req = False\n",
    "#     # print(tweets.meta)\n",
    "#     if 'next_token' not in tweets.meta:\n",
    "#       ntoken = None\n",
    "#       print('Exiting now...')\n",
    "#       break\n",
    "#     ntoken = tweets.meta['next_token']\n",
    "#     print(ntoken)\n",
    "\n",
    "#     ps = get_data(tweets.data)\n",
    "#     master_list.append(ps)\n",
    "\n",
    "# print(len(master_list))\n",
    "# print([len(i) for i in master_list])\n"
   ]
  },
  {
   "cell_type": "code",
   "execution_count": null,
   "metadata": {
    "jupyter": {
     "source_hidden": true
    },
    "tags": []
   },
   "outputs": [],
   "source": [
    "# temp = []\n",
    "# for i in master_list:\n",
    "#     temp+=i\n",
    "# master_list = temp"
   ]
  },
  {
   "cell_type": "code",
   "execution_count": null,
   "metadata": {
    "jupyter": {
     "source_hidden": true
    },
    "tags": []
   },
   "outputs": [],
   "source": [
    "# df_n = pd.DataFrame(master_list)\n",
    "# df_n['date'] = pd.to_datetime(df_n['date'], format=\"%Y-%m-%d\")\n",
    "# df_n['date'] = df_n.apply(lambda row : str(row['date']).split()[0], axis=1)\n",
    "# df_n"
   ]
  },
  {
   "cell_type": "code",
   "execution_count": null,
   "metadata": {
    "jupyter": {
     "source_hidden": true
    },
    "tags": []
   },
   "outputs": [],
   "source": [
    "# df_n = df_n.groupby('date')['text'].apply(' '.join).reset_index()\n"
   ]
  }
 ],
 "metadata": {
  "interpreter": {
   "hash": "4bd624a0593993fe43ac4046b27b898fb2ef75c21c08f81e89e64ea0f51df676"
  },
  "kernelspec": {
   "display_name": "default:Python",
   "language": "python",
   "name": "conda-env-default-py"
  },
  "language_info": {
   "codemirror_mode": {
    "name": "ipython",
    "version": 3
   },
   "file_extension": ".py",
   "mimetype": "text/x-python",
   "name": "python",
   "nbconvert_exporter": "python",
   "pygments_lexer": "ipython3",
   "version": "3.9.7"
  }
 },
 "nbformat": 4,
 "nbformat_minor": 4
}
