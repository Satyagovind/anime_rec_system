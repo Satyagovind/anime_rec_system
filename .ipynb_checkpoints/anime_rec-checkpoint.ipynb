{
 "cells": [
  {
   "cell_type": "code",
   "execution_count": 119,
   "id": "e4f94d84-4ac7-46e3-a7a1-ddb00d2d3018",
   "metadata": {},
   "outputs": [],
   "source": [
    "import pandas as pd"
   ]
  },
  {
   "cell_type": "code",
   "execution_count": 120,
   "id": "f347b33a-54e3-43bf-a085-3ddef68ab169",
   "metadata": {},
   "outputs": [],
   "source": [
    "anime = pd.read_csv('anime_data.csv')"
   ]
  },
  {
   "cell_type": "code",
   "execution_count": 122,
   "id": "02970b1b-ef5a-4046-ba22-84c112f723f3",
   "metadata": {},
   "outputs": [
    {
     "data": {
      "text/plain": [
       "index       12017\n",
       "anime_id    12017\n",
       "name        12017\n",
       "genre       12017\n",
       "type        12017\n",
       "episodes    12017\n",
       "rating      12017\n",
       "members     12017\n",
       "dtype: int64"
      ]
     },
     "execution_count": 122,
     "metadata": {},
     "output_type": "execute_result"
    }
   ],
   "source": [
    "anime.head()\n",
    "anime=anime.dropna().reset_index()\n",
    "anime.count()"
   ]
  },
  {
   "cell_type": "code",
   "execution_count": 123,
   "id": "56d43966-6b7d-4437-b1ca-2f2635083403",
   "metadata": {},
   "outputs": [],
   "source": [
    "anime.to_csv(\"anime_wo_na.csv\")"
   ]
  },
  {
   "cell_type": "code",
   "execution_count": 124,
   "id": "22c2f823-c15f-4cca-96d2-6c2e648749c8",
   "metadata": {},
   "outputs": [],
   "source": [
    "anime['data'] = anime['genre']+', '+ anime['type']"
   ]
  },
  {
   "cell_type": "code",
   "execution_count": 125,
   "id": "8259f4ca-f0a6-4562-8b07-df0f56994565",
   "metadata": {},
   "outputs": [],
   "source": [
    "anime = anime.drop(columns=['episodes','members','rating'])"
   ]
  },
  {
   "cell_type": "code",
   "execution_count": 126,
   "id": "0a7a1ed2-9cc3-48c8-8dfd-9200e0c002d9",
   "metadata": {},
   "outputs": [
    {
     "data": {
      "text/plain": [
       "index       0\n",
       "anime_id    0\n",
       "name        0\n",
       "genre       0\n",
       "type        0\n",
       "data        0\n",
       "dtype: int64"
      ]
     },
     "execution_count": 126,
     "metadata": {},
     "output_type": "execute_result"
    }
   ],
   "source": [
    "anime.isna().sum()"
   ]
  },
  {
   "cell_type": "code",
   "execution_count": 127,
   "id": "cf4953b5-a52d-4b27-bac0-57983892df3c",
   "metadata": {},
   "outputs": [],
   "source": [
    "from nltk.stem.porter import PorterStemmer\n",
    "ps = PorterStemmer()"
   ]
  },
  {
   "cell_type": "code",
   "execution_count": 128,
   "id": "d12e32ba-d4c7-4fe4-84cd-1b5e3a03bbba",
   "metadata": {},
   "outputs": [],
   "source": [
    "def steam(text):\n",
    "    y = []\n",
    "    \n",
    "    for i in text.split(','):\n",
    "        y.append(ps.stem(i))\n",
    "        \n",
    "    return \"\".join(y)\n",
    "        "
   ]
  },
  {
   "cell_type": "code",
   "execution_count": 129,
   "id": "e6bb07e8-3d79-4c04-bda1-ead30786b096",
   "metadata": {},
   "outputs": [
    {
     "data": {
      "text/html": [
       "<div>\n",
       "<style scoped>\n",
       "    .dataframe tbody tr th:only-of-type {\n",
       "        vertical-align: middle;\n",
       "    }\n",
       "\n",
       "    .dataframe tbody tr th {\n",
       "        vertical-align: top;\n",
       "    }\n",
       "\n",
       "    .dataframe thead th {\n",
       "        text-align: right;\n",
       "    }\n",
       "</style>\n",
       "<table border=\"1\" class=\"dataframe\">\n",
       "  <thead>\n",
       "    <tr style=\"text-align: right;\">\n",
       "      <th></th>\n",
       "      <th>index</th>\n",
       "      <th>anime_id</th>\n",
       "      <th>name</th>\n",
       "      <th>genre</th>\n",
       "      <th>type</th>\n",
       "      <th>data</th>\n",
       "    </tr>\n",
       "  </thead>\n",
       "  <tbody>\n",
       "    <tr>\n",
       "      <th>0</th>\n",
       "      <td>0</td>\n",
       "      <td>32281</td>\n",
       "      <td>Kimi no Na wa.</td>\n",
       "      <td>Drama, Romance, School, Supernatural</td>\n",
       "      <td>Movie</td>\n",
       "      <td>Drama, Romance, School, Supernatural, Movie</td>\n",
       "    </tr>\n",
       "    <tr>\n",
       "      <th>1</th>\n",
       "      <td>1</td>\n",
       "      <td>5114</td>\n",
       "      <td>Fullmetal Alchemist: Brotherhood</td>\n",
       "      <td>Action, Adventure, Drama, Fantasy, Magic, Mili...</td>\n",
       "      <td>TV</td>\n",
       "      <td>Action, Adventure, Drama, Fantasy, Magic, Mili...</td>\n",
       "    </tr>\n",
       "    <tr>\n",
       "      <th>2</th>\n",
       "      <td>2</td>\n",
       "      <td>28977</td>\n",
       "      <td>Gintama°</td>\n",
       "      <td>Action, Comedy, Historical, Parody, Samurai, S...</td>\n",
       "      <td>TV</td>\n",
       "      <td>Action, Comedy, Historical, Parody, Samurai, S...</td>\n",
       "    </tr>\n",
       "    <tr>\n",
       "      <th>3</th>\n",
       "      <td>3</td>\n",
       "      <td>9253</td>\n",
       "      <td>Steins;Gate</td>\n",
       "      <td>Sci-Fi, Thriller</td>\n",
       "      <td>TV</td>\n",
       "      <td>Sci-Fi, Thriller, TV</td>\n",
       "    </tr>\n",
       "    <tr>\n",
       "      <th>4</th>\n",
       "      <td>4</td>\n",
       "      <td>9969</td>\n",
       "      <td>Gintama&amp;#039;</td>\n",
       "      <td>Action, Comedy, Historical, Parody, Samurai, S...</td>\n",
       "      <td>TV</td>\n",
       "      <td>Action, Comedy, Historical, Parody, Samurai, S...</td>\n",
       "    </tr>\n",
       "    <tr>\n",
       "      <th>...</th>\n",
       "      <td>...</td>\n",
       "      <td>...</td>\n",
       "      <td>...</td>\n",
       "      <td>...</td>\n",
       "      <td>...</td>\n",
       "      <td>...</td>\n",
       "    </tr>\n",
       "    <tr>\n",
       "      <th>12012</th>\n",
       "      <td>12289</td>\n",
       "      <td>9316</td>\n",
       "      <td>Toushindai My Lover: Minami tai Mecha-Minami</td>\n",
       "      <td>Hentai</td>\n",
       "      <td>OVA</td>\n",
       "      <td>Hentai, OVA</td>\n",
       "    </tr>\n",
       "    <tr>\n",
       "      <th>12013</th>\n",
       "      <td>12290</td>\n",
       "      <td>5543</td>\n",
       "      <td>Under World</td>\n",
       "      <td>Hentai</td>\n",
       "      <td>OVA</td>\n",
       "      <td>Hentai, OVA</td>\n",
       "    </tr>\n",
       "    <tr>\n",
       "      <th>12014</th>\n",
       "      <td>12291</td>\n",
       "      <td>5621</td>\n",
       "      <td>Violence Gekiga David no Hoshi</td>\n",
       "      <td>Hentai</td>\n",
       "      <td>OVA</td>\n",
       "      <td>Hentai, OVA</td>\n",
       "    </tr>\n",
       "    <tr>\n",
       "      <th>12015</th>\n",
       "      <td>12292</td>\n",
       "      <td>6133</td>\n",
       "      <td>Violence Gekiga Shin David no Hoshi: Inma Dens...</td>\n",
       "      <td>Hentai</td>\n",
       "      <td>OVA</td>\n",
       "      <td>Hentai, OVA</td>\n",
       "    </tr>\n",
       "    <tr>\n",
       "      <th>12016</th>\n",
       "      <td>12293</td>\n",
       "      <td>26081</td>\n",
       "      <td>Yasuji no Pornorama: Yacchimae!!</td>\n",
       "      <td>Hentai</td>\n",
       "      <td>Movie</td>\n",
       "      <td>Hentai, Movie</td>\n",
       "    </tr>\n",
       "  </tbody>\n",
       "</table>\n",
       "<p>12017 rows × 6 columns</p>\n",
       "</div>"
      ],
      "text/plain": [
       "       index  anime_id                                               name  \\\n",
       "0          0     32281                                     Kimi no Na wa.   \n",
       "1          1      5114                   Fullmetal Alchemist: Brotherhood   \n",
       "2          2     28977                                           Gintama°   \n",
       "3          3      9253                                        Steins;Gate   \n",
       "4          4      9969                                      Gintama&#039;   \n",
       "...      ...       ...                                                ...   \n",
       "12012  12289      9316       Toushindai My Lover: Minami tai Mecha-Minami   \n",
       "12013  12290      5543                                        Under World   \n",
       "12014  12291      5621                     Violence Gekiga David no Hoshi   \n",
       "12015  12292      6133  Violence Gekiga Shin David no Hoshi: Inma Dens...   \n",
       "12016  12293     26081                   Yasuji no Pornorama: Yacchimae!!   \n",
       "\n",
       "                                                   genre   type  \\\n",
       "0                   Drama, Romance, School, Supernatural  Movie   \n",
       "1      Action, Adventure, Drama, Fantasy, Magic, Mili...     TV   \n",
       "2      Action, Comedy, Historical, Parody, Samurai, S...     TV   \n",
       "3                                       Sci-Fi, Thriller     TV   \n",
       "4      Action, Comedy, Historical, Parody, Samurai, S...     TV   \n",
       "...                                                  ...    ...   \n",
       "12012                                             Hentai    OVA   \n",
       "12013                                             Hentai    OVA   \n",
       "12014                                             Hentai    OVA   \n",
       "12015                                             Hentai    OVA   \n",
       "12016                                             Hentai  Movie   \n",
       "\n",
       "                                                    data  \n",
       "0            Drama, Romance, School, Supernatural, Movie  \n",
       "1      Action, Adventure, Drama, Fantasy, Magic, Mili...  \n",
       "2      Action, Comedy, Historical, Parody, Samurai, S...  \n",
       "3                                   Sci-Fi, Thriller, TV  \n",
       "4      Action, Comedy, Historical, Parody, Samurai, S...  \n",
       "...                                                  ...  \n",
       "12012                                        Hentai, OVA  \n",
       "12013                                        Hentai, OVA  \n",
       "12014                                        Hentai, OVA  \n",
       "12015                                        Hentai, OVA  \n",
       "12016                                      Hentai, Movie  \n",
       "\n",
       "[12017 rows x 6 columns]"
      ]
     },
     "execution_count": 129,
     "metadata": {},
     "output_type": "execute_result"
    }
   ],
   "source": [
    "anime"
   ]
  },
  {
   "cell_type": "code",
   "execution_count": 130,
   "id": "d5fe46dc-8d1c-4c4c-a3d8-b0b9f35b0b72",
   "metadata": {},
   "outputs": [
    {
     "data": {
      "text/plain": [
       "'drama romanc school supernatur movi'"
      ]
     },
     "execution_count": 130,
     "metadata": {},
     "output_type": "execute_result"
    }
   ],
   "source": [
    "steam(anime['data'][0])"
   ]
  },
  {
   "cell_type": "code",
   "execution_count": 131,
   "id": "f912a237-d357-418b-a178-61d7a5a1af91",
   "metadata": {},
   "outputs": [],
   "source": [
    "anime['data'] = anime['data'].apply(steam)"
   ]
  },
  {
   "cell_type": "code",
   "execution_count": 132,
   "id": "8fe682a6-412e-45cb-84e9-56318f31685d",
   "metadata": {},
   "outputs": [],
   "source": [
    "from sklearn.feature_extraction.text import CountVectorizer\n",
    "cv = CountVectorizer(max_features=5000,stop_words='english')"
   ]
  },
  {
   "cell_type": "code",
   "execution_count": 133,
   "id": "d3035bc8-cd0b-445c-b0b1-4616845433de",
   "metadata": {},
   "outputs": [],
   "source": [
    "vector = cv.fit_transform(anime['data']).toarray()"
   ]
  },
  {
   "cell_type": "code",
   "execution_count": 134,
   "id": "66639f2a-a135-4ee0-8c35-5c7e86ff3a1a",
   "metadata": {},
   "outputs": [
    {
     "data": {
      "text/plain": [
       "(12017, 51)"
      ]
     },
     "execution_count": 134,
     "metadata": {},
     "output_type": "execute_result"
    }
   ],
   "source": [
    "vector.shape"
   ]
  },
  {
   "cell_type": "code",
   "execution_count": 135,
   "id": "3200cf86-e465-455c-9140-01170380f99e",
   "metadata": {},
   "outputs": [],
   "source": [
    "from sklearn.metrics.pairwise import cosine_similarity"
   ]
  },
  {
   "cell_type": "code",
   "execution_count": 136,
   "id": "8cba5f61-e16f-4338-b89c-eb0b7a18e4e6",
   "metadata": {},
   "outputs": [],
   "source": [
    "similarity = cosine_similarity(vector)"
   ]
  },
  {
   "cell_type": "code",
   "execution_count": 147,
   "id": "50f01b1f-3b3f-41dc-8687-e3c8f4501333",
   "metadata": {},
   "outputs": [
    {
     "data": {
      "text/plain": [
       "array([[1.        , 0.15811388, 0.        , ..., 0.        , 0.        ,\n",
       "        0.31622777],\n",
       "       [0.15811388, 1.        , 0.35355339, ..., 0.        , 0.        ,\n",
       "        0.        ],\n",
       "       [0.        , 0.35355339, 1.        , ..., 0.        , 0.        ,\n",
       "        0.        ],\n",
       "       ...,\n",
       "       [0.        , 0.        , 0.        , ..., 1.        , 1.        ,\n",
       "        0.5       ],\n",
       "       [0.        , 0.        , 0.        , ..., 1.        , 1.        ,\n",
       "        0.5       ],\n",
       "       [0.31622777, 0.        , 0.        , ..., 0.5       , 0.5       ,\n",
       "        1.        ]])"
      ]
     },
     "execution_count": 147,
     "metadata": {},
     "output_type": "execute_result"
    }
   ],
   "source": [
    "similarity"
   ]
  },
  {
   "cell_type": "code",
   "execution_count": 138,
   "id": "85864d99-97ab-4754-9279-63b88e17fc26",
   "metadata": {},
   "outputs": [],
   "source": [
    "def recommend(movie):\n",
    "    index = anime[anime['name'] == movie].index[0]\n",
    "    distances = sorted(list(enumerate(similarity[index])),reverse=True,key = lambda x: x[1])\n",
    "    for i in distances[1:10]:\n",
    "        print(anime.iloc[i[0]]['name'])\n",
    "        "
   ]
  },
  {
   "cell_type": "code",
   "execution_count": 142,
   "id": "31bcfe7d-86b4-42c8-98c8-ef13ca4f9fed",
   "metadata": {},
   "outputs": [
    {
     "name": "stdout",
     "output_type": "stream",
     "text": [
      "Kanashimi no Belladonna\n",
      "Senya Ichiya Monogatari\n",
      "Cleopatra\n",
      "Blue Seagull\n",
      "Hi Gekiga Ukiyoe Senya Ichiya\n",
      "Choujin Densetsu Urotsukidouji Movie\n",
      "Choujin Densetsu Urotsukidouji 2\n",
      "Tsumiki no Ie\n",
      "Karigurashi no Arrietty\n"
     ]
    }
   ],
   "source": [
    "recommend(\"Yasuji no Pornorama: Yacchimae!!\")"
   ]
  },
  {
   "cell_type": "code",
   "execution_count": 140,
   "id": "cb9ffe8f-547a-426b-abaa-4214e1a7d85e",
   "metadata": {},
   "outputs": [],
   "source": [
    "import pickle as pkl\n"
   ]
  },
  {
   "cell_type": "code",
   "execution_count": 149,
   "id": "733f20d4-8b4c-43b4-9c2e-a379baa43ebe",
   "metadata": {},
   "outputs": [],
   "source": [
    "# with open(\"similiarity.pkl\", \"wb\") as output_file:\n",
    "pkl.dump(simi, open(\"simi.pkl\", \"wb\"))"
   ]
  },
  {
   "cell_type": "code",
   "execution_count": 143,
   "id": "b153a916-8fb0-4218-a51e-149be87df749",
   "metadata": {},
   "outputs": [],
   "source": [
    "import numpy as np"
   ]
  },
  {
   "cell_type": "code",
   "execution_count": null,
   "id": "809a5894-c11e-413d-bf4d-04e5827fb72e",
   "metadata": {},
   "outputs": [],
   "source": [
    "simi = similarity.astype(np.float16)"
   ]
  },
  {
   "cell_type": "code",
   "execution_count": 148,
   "id": "315ad5f1-2434-4002-ad9d-a545220d24b3",
   "metadata": {},
   "outputs": [
    {
     "data": {
      "text/plain": [
       "(12017, 12017)"
      ]
     },
     "execution_count": 148,
     "metadata": {},
     "output_type": "execute_result"
    }
   ],
   "source": [
    "simi.shape"
   ]
  },
  {
   "cell_type": "code",
   "execution_count": null,
   "id": "8c90b678-dc29-40c3-b0cc-a546b372e3c1",
   "metadata": {},
   "outputs": [],
   "source": []
  }
 ],
 "metadata": {
  "kernelspec": {
   "display_name": "default:Python",
   "language": "python",
   "name": "conda-env-default-py"
  },
  "language_info": {
   "codemirror_mode": {
    "name": "ipython",
    "version": 3
   },
   "file_extension": ".py",
   "mimetype": "text/x-python",
   "name": "python",
   "nbconvert_exporter": "python",
   "pygments_lexer": "ipython3",
   "version": "3.9.7"
  }
 },
 "nbformat": 4,
 "nbformat_minor": 5
}
